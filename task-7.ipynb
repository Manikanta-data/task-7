{
 "cells": [
  {
   "cell_type": "code",
   "execution_count": 4,
   "id": "8afaa1b1-1835-4dd8-a2a6-e57b008d42f3",
   "metadata": {},
   "outputs": [
    {
     "name": "stdout",
     "output_type": "stream",
     "text": [
      "✅ sales_data.db created with sample data.\n"
     ]
    }
   ],
   "source": [
    "import sqlite3\n",
    "\n",
    "# Connect to (or create) the database\n",
    "conn = sqlite3.connect(\"sales_data.db\")\n",
    "cursor = conn.cursor()\n",
    "\n",
    "# Create the sales table\n",
    "cursor.execute(\"\"\"\n",
    "CREATE TABLE IF NOT EXISTS sales (\n",
    "    id INTEGER PRIMARY KEY AUTOINCREMENT,\n",
    "    product TEXT,\n",
    "    quantity INTEGER,\n",
    "    price REAL\n",
    ")\n",
    "\"\"\")\n",
    "\n",
    "# Sample data\n",
    "sample_data = [\n",
    "    (\"Apples\", 30, 1.2),\n",
    "    (\"Bananas\", 50, 0.5),\n",
    "    (\"Oranges\", 40, 0.8),\n",
    "    (\"Grapes\", 20, 2.0),\n",
    "    (\"Mangoes\", 25, 1.5),\n",
    "    (\"Bananas\", 30, 0.5),\n",
    "    (\"Apples\", 20, 1.2)\n",
    "]\n",
    "\n",
    "# Insert data into the table\n",
    "cursor.executemany(\"INSERT INTO sales (product, quantity, price) VALUES (?, ?, ?)\", sample_data)\n",
    "\n",
    "# Commit and close\n",
    "conn.commit()\n",
    "conn.close()\n",
    "\n",
    "print(\"✅ sales_data.db created with sample data.\")\n"
   ]
  },
  {
   "cell_type": "code",
   "execution_count": 5,
   "id": "46dc44ff-4951-4712-80be-b6a28b162031",
   "metadata": {},
   "outputs": [],
   "source": [
    "import sqlite3\n",
    "conn = sqlite3.connect(\"sales_data.db\")\n",
    "\n"
   ]
  },
  {
   "cell_type": "code",
   "execution_count": 8,
   "id": "105987ae-fc57-48c1-a3ac-b314b026f923",
   "metadata": {},
   "outputs": [],
   "source": [
    "import matplotlib.pyplot as plt"
   ]
  },
  {
   "cell_type": "code",
   "execution_count": 10,
   "id": "eeaef703-4bf7-4f07-9c07-dfbdde7d5d07",
   "metadata": {},
   "outputs": [],
   "source": [
    "import pandas as pd\n"
   ]
  },
  {
   "cell_type": "code",
   "execution_count": 13,
   "id": "fae2c1d4-0ded-404a-a15c-d01d7fabf962",
   "metadata": {},
   "outputs": [],
   "source": [
    "conn = sqlite3.connect(\"sales_data.db\")  # Make sure the file is in the same folder\n"
   ]
  },
  {
   "cell_type": "code",
   "execution_count": 14,
   "id": "d0a85e38-a9e0-47e6-8e6e-59811da13d2a",
   "metadata": {},
   "outputs": [],
   "source": [
    "query = \"\"\"\n",
    "SELECT \n",
    "    product,\n",
    "    SUM(quantity) AS total_qty,\n",
    "    SUM(quantity * price) AS revenue\n",
    "FROM sales\n",
    "GROUP BY product\n",
    "\"\"\"\n"
   ]
  },
  {
   "cell_type": "code",
   "execution_count": 15,
   "id": "7978f40d-7c84-40a7-8798-7fbfd13ca723",
   "metadata": {},
   "outputs": [],
   "source": [
    "df = pd.read_sql_query(query, conn)\n"
   ]
  },
  {
   "cell_type": "code",
   "execution_count": 16,
   "id": "dc36ab55-89cf-4d9a-9246-cf134131bf60",
   "metadata": {},
   "outputs": [
    {
     "name": "stdout",
     "output_type": "stream",
     "text": [
      "   product  total_qty  revenue\n",
      "0   Apples        100    120.0\n",
      "1  Bananas        160     80.0\n",
      "2   Grapes         40     80.0\n",
      "3  Mangoes         50     75.0\n",
      "4  Oranges         80     64.0\n"
     ]
    }
   ],
   "source": [
    "print(df)\n"
   ]
  },
  {
   "cell_type": "code",
   "execution_count": 17,
   "id": "cbeb1f6c-6fcc-40fc-b170-8084368b6a4c",
   "metadata": {},
   "outputs": [
    {
     "data": {
      "image/png": "[encoded data removed]",
      "text/plain": [
       "<Figure size 640x480 with 1 Axes>"
      ]
     },
     "metadata": {},
     "output_type": "display_data"
    }
   ],
   "source": [
    "import matplotlib.pyplot as plt\n",
    "df.plot(kind='bar', x='product', y='revenue')\n",
    "plt.title(\"Revenue by Product\")\n",
    "plt.ylabel(\"Revenue\")\n",
    "plt.tight_layout()\n",
    "plt.savefig(\"sales_chart.png\")  # optional\n",
    "plt.show()\n"
   ]
  },
  {
   "cell_type": "code",
   "execution_count": null,
   "id": "416c6a1f-f0bc-46e9-aa70-60f998b8fede",
   "metadata": {},
   "outputs": [],
   "source": []
  }
 ],
 "metadata": {
  "kernelspec": {
   "display_name": "Python 3 (ipykernel)",
   "language": "python",
   "name": "python3"
  },
  "language_info": {
   "codemirror_mode": {
    "name": "ipython",
    "version": 3
   },
   "file_extension": ".py",
   "mimetype": "text/x-python",
   "name": "python",
   "nbconvert_exporter": "python",
   "pygments_lexer": "ipython3",
   "version": "3.13.2"
  }
 },
 "nbformat": 4,
 "nbformat_minor": 5
}
